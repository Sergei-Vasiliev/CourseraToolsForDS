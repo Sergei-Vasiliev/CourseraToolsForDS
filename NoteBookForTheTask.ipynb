{
 "cells": [
  {
   "cell_type": "markdown",
   "id": "b21c850b-8134-4198-bc12-07a14563dbdf",
   "metadata": {},
   "source": [
    "<H1>My Jupyter Notebook on IBM Watson Studio</H1>"
   ]
  },
  {
   "cell_type": "markdown",
   "id": "2f8197aa-cd7e-453c-9dd8-b60d6135ab88",
   "metadata": {},
   "source": [
    "<B>Sergei Vasilev</B> <BR> <HR> Demand Planner"
   ]
  },
  {
   "cell_type": "markdown",
   "id": "255c6d2d-e704-4d00-9424-387bb553aa8a",
   "metadata": {},
   "source": [
    "<EM>I have experience in planning and analysis as well as in logistic and supply. Looking for new challenges and useful things to learn.</EM>"
   ]
  },
  {
   "cell_type": "markdown",
   "id": "4cd12c4f-6f4c-4cb6-ba5c-348dd3a455d0",
   "metadata": {},
   "source": [
    "<H3>This code is printing today's date and week number</H3>"
   ]
  },
  {
   "cell_type": "code",
   "execution_count": 14,
   "id": "97d75d49-6db8-4734-9bd1-97e271de2491",
   "metadata": {
    "tags": []
   },
   "outputs": [
    {
     "name": "stdout",
     "output_type": "stream",
     "text": [
      "Today is: \n",
      "2022-11-19\n",
      "Weeknumber is: \n",
      "46\n"
     ]
    }
   ],
   "source": [
    "import datetime\n",
    "from datetime import date\n",
    "Today_Date = datetime.date.today()\n",
    "year, week_num, day_of_week = Today_Date.isocalendar()\n",
    "print(\"Today is: \")\n",
    "print(Today_Date)\n",
    "print(\"Weeknumber is: \")\n",
    "print(week_num)"
   ]
  },
  {
   "cell_type": "markdown",
   "id": "0446b6af-ebd5-4639-ae2a-2f9b843f8a1c",
   "metadata": {},
   "source": [
    "<HR> Thank you for your time! <A href=\"https://imagesvc.meredithcorp.io/v3/mm/image?url=https%3A%2F%2Fstatic.onecms.io%2Fwp-content%2Fuploads%2Fsites%2F47%2F2020%2F06%2F26%2Forange-kitten-955480082-2000.jpg\">Link example</A> <BR> <HR>\n",
    "<IMG src=\"https://imagesvc.meredithcorp.io/v3/mm/image?url=https%3A%2F%2Fstatic.onecms.io%2Fwp-content%2Fuploads%2Fsites%2F47%2F2020%2F06%2F26%2Forange-kitten-955480082-2000.jpg\" style=\"width:180px;height:120px;\">"
   ]
  }
 ],
 "metadata": {
  "kernelspec": {
   "display_name": "Python",
   "language": "python",
   "name": "conda-env-python-py"
  },
  "language_info": {
   "codemirror_mode": {
    "name": "ipython",
    "version": 3
   },
   "file_extension": ".py",
   "mimetype": "text/x-python",
   "name": "python",
   "nbconvert_exporter": "python",
   "pygments_lexer": "ipython3",
   "version": "3.7.12"
  }
 },
 "nbformat": 4,
 "nbformat_minor": 5
}
